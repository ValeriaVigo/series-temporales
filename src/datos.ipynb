{
 "cells": [
  {
   "cell_type": "code",
   "execution_count": 1,
   "metadata": {},
   "outputs": [],
   "source": [
    "import pandas as pd\n",
    "import urllib.request\n",
    "import ssl\n",
    "\n",
    "# URL del archivo CSV\n",
    "url = 'https://raw.githubusercontent.com/4GeeksAcademy/alternative-time-series-project/main/sales.csv'\n",
    "\n",
    "# Crear un contexto SSL sin verificar\n",
    "ssl_context = ssl._create_unverified_context()\n",
    "\n",
    "# Leer el archivo CSV directamente desde la URL\n",
    "with urllib.request.urlopen(url, context=ssl_context) as response:\n",
    "    # Intentar leer el archivo sin especificar un delimitador\n",
    "    df = pd.read_csv(response)\n",
    "\n",
    "# Guardar los datos en un archivo CSV sin las comillas adicionales\n",
    "df.to_csv('/workspace/series-temporales/data/raw/datos.csv', index=False)"
   ]
  }
 ],
 "metadata": {
  "kernelspec": {
   "display_name": "Python 3",
   "language": "python",
   "name": "python3"
  },
  "language_info": {
   "codemirror_mode": {
    "name": "ipython",
    "version": 3
   },
   "file_extension": ".py",
   "mimetype": "text/x-python",
   "name": "python",
   "nbconvert_exporter": "python",
   "pygments_lexer": "ipython3",
   "version": "3.12.4"
  }
 },
 "nbformat": 4,
 "nbformat_minor": 2
}
